{
 "cells": [
  {
   "cell_type": "code",
   "execution_count": null,
   "metadata": {},
   "outputs": [],
   "source": [
    "a=float(input(\"Enter one of the numbers 1,2,3: \"))\n",
    "if a==1:\n",
    "    print(\"Triangular hypotenuse will be calculated\")\n",
    "    k=float(input(\"Enter the first edge: \"))\n",
    "    l=float(input(\"Enter the second edge:  \"))\n",
    "    hypotenuse=(k**2+l**2)**0.5\n",
    "    print(\"hypotenuse:\",hypotenuse)\n",
    "elif a==2:\n",
    "    a=float(input(\"Enter a number: \"))\n",
    "    i=1\n",
    "    while(i<=a):\n",
    "        print(i)\n",
    "        i=i+1\n",
    "elif a==3:\n",
    "    number1 = float(input(\"Enter a 1st number: \"))\n",
    "    number2 = float(input(\"Enter a 2nd number: \"))\n",
    "    number3 = float(input(\"Enter a 3rd number: \"))\n",
    "    number4 = float(input(\"Enter a 4th number: \"))\n",
    "    number5 = float(input(\"Enter a 5th number: \"))\n",
    "    number6 = float(input(\"Enter a 6th number: \"))\n",
    "    result_of_arithmetic = (number1+number2+number3+number4+number5+number6)/6\n",
    "    print(result_of_arithmetic)\n",
    "else:\n",
    "    print(\"WRONG! Please try again with one of the numbers 1,2,3\")"
   ]
  }
 ],
 "metadata": {
  "kernelspec": {
   "display_name": "Python 3",
   "language": "python",
   "name": "python3"
  },
  "language_info": {
   "codemirror_mode": {
    "name": "ipython",
    "version": 3
   },
   "file_extension": ".py",
   "mimetype": "text/x-python",
   "name": "python",
   "nbconvert_exporter": "python",
   "pygments_lexer": "ipython3",
   "version": "3.7.0"
  }
 },
 "nbformat": 4,
 "nbformat_minor": 2
}
